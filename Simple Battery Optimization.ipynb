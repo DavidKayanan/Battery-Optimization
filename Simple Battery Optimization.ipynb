{
 "cells": [
  {
   "cell_type": "markdown",
   "metadata": {},
   "source": [
    "<h3><i><font color=#2471A3>Simple Battery Energy Arbitrage Optimization</font></i></h3>"
   ]
  },
  {
   "cell_type": "markdown",
   "metadata": {},
   "source": [
    "24-h optimization of the Tesla Powerpack. Prices obtained from the EPEX-SPOT day-ahead market for DE/AT (Jan 24, 2018). Problem built with Gurobi 8.1."
   ]
  },
  {
   "cell_type": "code",
   "execution_count": 1,
   "metadata": {},
   "outputs": [
    {
     "data": {
      "text/html": [
       "<div>\n",
       "<style scoped>\n",
       "    .dataframe tbody tr th:only-of-type {\n",
       "        vertical-align: middle;\n",
       "    }\n",
       "\n",
       "    .dataframe tbody tr th {\n",
       "        vertical-align: top;\n",
       "    }\n",
       "\n",
       "    .dataframe thead th {\n",
       "        text-align: right;\n",
       "    }\n",
       "</style>\n",
       "<table border=\"1\" class=\"dataframe\">\n",
       "  <thead>\n",
       "    <tr style=\"text-align: right;\">\n",
       "      <th></th>\n",
       "      <th>Tesla Powerpack</th>\n",
       "    </tr>\n",
       "  </thead>\n",
       "  <tbody>\n",
       "    <tr>\n",
       "      <th>Capacity [kWh]</th>\n",
       "      <td>210.0</td>\n",
       "    </tr>\n",
       "    <tr>\n",
       "      <th>Power [kW]</th>\n",
       "      <td>50.0</td>\n",
       "    </tr>\n",
       "    <tr>\n",
       "      <th>Energy-to-Power [h]</th>\n",
       "      <td>4.2</td>\n",
       "    </tr>\n",
       "    <tr>\n",
       "      <th>DoD [%]</th>\n",
       "      <td>100.0</td>\n",
       "    </tr>\n",
       "    <tr>\n",
       "      <th>Cycle Efficiency [%]</th>\n",
       "      <td>89.0</td>\n",
       "    </tr>\n",
       "  </tbody>\n",
       "</table>\n",
       "</div>"
      ],
      "text/plain": [
       "                      Tesla Powerpack\n",
       "Capacity [kWh]                  210.0\n",
       "Power [kW]                       50.0\n",
       "Energy-to-Power [h]               4.2\n",
       "DoD [%]                         100.0\n",
       "Cycle Efficiency [%]             89.0"
      ]
     },
     "execution_count": 1,
     "metadata": {},
     "output_type": "execute_result"
    }
   ],
   "source": [
    "import getpass\n",
    "PathProj = \"C://Users//{usr}//GoogleDrive//Projects//Battery Optimization\".format(usr=getpass.getuser())\n",
    "getpass.sys.path.append(PathProj)\n",
    "\n",
    "# My modules\n",
    "from batopt import *\n",
    "\n",
    "BatteryDefns = pd.read_pickle(\"{}//Input//BatteryDefns.pkl\".format(PathProj))\n",
    "BatteryDefns"
   ]
  },
  {
   "cell_type": "markdown",
   "metadata": {},
   "source": [
    "<h4><i><font color=#BA4A00>1) Initialize Gurobi model and select battery</font></i></h4>"
   ]
  },
  {
   "cell_type": "code",
   "execution_count": 2,
   "metadata": {},
   "outputs": [
    {
     "name": "stdout",
     "output_type": "stream",
     "text": [
      "Academic license - for non-commercial use only\n"
     ]
    }
   ],
   "source": [
    "Prob = Model(\"Bat Opt 1\")\n",
    "BatteryModel = 'Tesla Powerpack'"
   ]
  },
  {
   "cell_type": "markdown",
   "metadata": {},
   "source": [
    "<h4><i><font color=#BA4A00>2) Initialize decision variables</font></i></h4>"
   ]
  },
  {
   "cell_type": "code",
   "execution_count": 3,
   "metadata": {},
   "outputs": [],
   "source": [
    "# Define time vector (arbitrary date)\n",
    "time_vec = pd.date_range(start='1/01/2019 00:00', end='1/01/2019 23:45', freq='H')\n",
    "\n",
    "# DV vector table\n",
    "dv_vecs = pd.DataFrame(index=time_vec, columns=['E', 'Pch', 'Pdis', 'b'])\n",
    "\n",
    "for dv_type in dv_vecs.columns:\n",
    "    dv_vecs[dv_type] = create_DVs(Prob, dv_type, time_vec, BatteryModel, BatteryDefns)\n",
    "\n",
    "# Final energy\n",
    "dv_Efin = Prob.addVar(name=\"Efin\", vtype=GRB.CONTINUOUS, lb=0, ub=BatteryDefns.at['Capacity [kWh]', BatteryModel])"
   ]
  },
  {
   "cell_type": "markdown",
   "metadata": {},
   "source": [
    "<h4><i><font color=gray>Inspect dvs</font></i></h4>"
   ]
  },
  {
   "cell_type": "code",
   "execution_count": 4,
   "metadata": {
    "scrolled": false
   },
   "outputs": [
    {
     "data": {
      "text/html": [
       "<div>\n",
       "<style scoped>\n",
       "    .dataframe tbody tr th:only-of-type {\n",
       "        vertical-align: middle;\n",
       "    }\n",
       "\n",
       "    .dataframe tbody tr th {\n",
       "        vertical-align: top;\n",
       "    }\n",
       "\n",
       "    .dataframe thead th {\n",
       "        text-align: right;\n",
       "    }\n",
       "</style>\n",
       "<table border=\"1\" class=\"dataframe\">\n",
       "  <thead>\n",
       "    <tr style=\"text-align: right;\">\n",
       "      <th></th>\n",
       "      <th>E</th>\n",
       "      <th>Pch</th>\n",
       "      <th>Pdis</th>\n",
       "      <th>b</th>\n",
       "    </tr>\n",
       "  </thead>\n",
       "  <tbody>\n",
       "    <tr>\n",
       "      <th>2019-01-01 00:00:00</th>\n",
       "      <td>&lt;gurobi.Var (E, 00:00)&gt;</td>\n",
       "      <td>&lt;gurobi.Var (Pch, 00:00)&gt;</td>\n",
       "      <td>&lt;gurobi.Var (Pdis, 00:00)&gt;</td>\n",
       "      <td>&lt;gurobi.Var (b, 00:00)&gt;</td>\n",
       "    </tr>\n",
       "    <tr>\n",
       "      <th>2019-01-01 01:00:00</th>\n",
       "      <td>&lt;gurobi.Var (E, 01:00)&gt;</td>\n",
       "      <td>&lt;gurobi.Var (Pch, 01:00)&gt;</td>\n",
       "      <td>&lt;gurobi.Var (Pdis, 01:00)&gt;</td>\n",
       "      <td>&lt;gurobi.Var (b, 01:00)&gt;</td>\n",
       "    </tr>\n",
       "    <tr>\n",
       "      <th>2019-01-01 02:00:00</th>\n",
       "      <td>&lt;gurobi.Var (E, 02:00)&gt;</td>\n",
       "      <td>&lt;gurobi.Var (Pch, 02:00)&gt;</td>\n",
       "      <td>&lt;gurobi.Var (Pdis, 02:00)&gt;</td>\n",
       "      <td>&lt;gurobi.Var (b, 02:00)&gt;</td>\n",
       "    </tr>\n",
       "    <tr>\n",
       "      <th>2019-01-01 03:00:00</th>\n",
       "      <td>&lt;gurobi.Var (E, 03:00)&gt;</td>\n",
       "      <td>&lt;gurobi.Var (Pch, 03:00)&gt;</td>\n",
       "      <td>&lt;gurobi.Var (Pdis, 03:00)&gt;</td>\n",
       "      <td>&lt;gurobi.Var (b, 03:00)&gt;</td>\n",
       "    </tr>\n",
       "    <tr>\n",
       "      <th>2019-01-01 04:00:00</th>\n",
       "      <td>&lt;gurobi.Var (E, 04:00)&gt;</td>\n",
       "      <td>&lt;gurobi.Var (Pch, 04:00)&gt;</td>\n",
       "      <td>&lt;gurobi.Var (Pdis, 04:00)&gt;</td>\n",
       "      <td>&lt;gurobi.Var (b, 04:00)&gt;</td>\n",
       "    </tr>\n",
       "  </tbody>\n",
       "</table>\n",
       "</div>"
      ],
      "text/plain": [
       "                                           E                        Pch  \\\n",
       "2019-01-01 00:00:00  <gurobi.Var (E, 00:00)>  <gurobi.Var (Pch, 00:00)>   \n",
       "2019-01-01 01:00:00  <gurobi.Var (E, 01:00)>  <gurobi.Var (Pch, 01:00)>   \n",
       "2019-01-01 02:00:00  <gurobi.Var (E, 02:00)>  <gurobi.Var (Pch, 02:00)>   \n",
       "2019-01-01 03:00:00  <gurobi.Var (E, 03:00)>  <gurobi.Var (Pch, 03:00)>   \n",
       "2019-01-01 04:00:00  <gurobi.Var (E, 04:00)>  <gurobi.Var (Pch, 04:00)>   \n",
       "\n",
       "                                           Pdis                        b  \n",
       "2019-01-01 00:00:00  <gurobi.Var (Pdis, 00:00)>  <gurobi.Var (b, 00:00)>  \n",
       "2019-01-01 01:00:00  <gurobi.Var (Pdis, 01:00)>  <gurobi.Var (b, 01:00)>  \n",
       "2019-01-01 02:00:00  <gurobi.Var (Pdis, 02:00)>  <gurobi.Var (b, 02:00)>  \n",
       "2019-01-01 03:00:00  <gurobi.Var (Pdis, 03:00)>  <gurobi.Var (b, 03:00)>  \n",
       "2019-01-01 04:00:00  <gurobi.Var (Pdis, 04:00)>  <gurobi.Var (b, 04:00)>  "
      ]
     },
     "execution_count": 4,
     "metadata": {},
     "output_type": "execute_result"
    }
   ],
   "source": [
    "Prob.update()\n",
    "dv_vecs.head()"
   ]
  },
  {
   "cell_type": "markdown",
   "metadata": {},
   "source": [
    "<h4><i><font color=#BA4A00>3) Formulate constraints</font></i></h4>\n",
    "- Battery charge balance <br>\n",
    "- Charge XOR discharge <br>\n",
    "- Restore to initial charge"
   ]
  },
  {
   "cell_type": "code",
   "execution_count": 5,
   "metadata": {},
   "outputs": [],
   "source": [
    "all_constrs(Prob, dv_vecs, dv_Efin, BatteryModel, BatteryDefns)"
   ]
  },
  {
   "cell_type": "markdown",
   "metadata": {},
   "source": [
    "<h4><i><font color=#BA4A00>4) Define objective</font></i></h4>"
   ]
  },
  {
   "cell_type": "code",
   "execution_count": 6,
   "metadata": {},
   "outputs": [],
   "source": [
    "# Read price, and convert to per kWh\n",
    "Prices = pd.read_pickle(\"{}//Input//DEAT_20180124.pkl\".format(PathProj))/1000\n",
    "\n",
    "setObj(Prob, dv_vecs, Prices)"
   ]
  },
  {
   "cell_type": "markdown",
   "metadata": {},
   "source": [
    "<h4><i><font color=#BA4A00>5) Solve</font></i></h4>"
   ]
  },
  {
   "cell_type": "code",
   "execution_count": 7,
   "metadata": {},
   "outputs": [
    {
     "name": "stdout",
     "output_type": "stream",
     "text": [
      "Optimize a model with 73 rows, 97 columns and 194 nonzeros\n",
      "Variable types: 73 continuous, 24 integer (24 binary)\n",
      "Coefficient statistics:\n",
      "  Matrix range     [2e-02, 1e+00]\n",
      "  Objective range  [9e-03, 4e-02]\n",
      "  Bounds range     [1e+00, 2e+02]\n",
      "  RHS range        [1e+00, 1e+00]\n",
      "Found heuristic solution: objective -0.0000000\n",
      "Presolve removed 1 rows and 1 columns\n",
      "Presolve time: 0.00s\n",
      "Presolved: 72 rows, 96 columns, 192 nonzeros\n",
      "Variable types: 72 continuous, 24 integer (24 binary)\n",
      "\n",
      "Root relaxation: objective 4.855720e+00, 17 iterations, 0.00 seconds\n",
      "\n",
      "    Nodes    |    Current Node    |     Objective Bounds      |     Work\n",
      " Expl Unexpl |  Obj  Depth IntInf | Incumbent    BestBd   Gap | It/Node Time\n",
      "\n",
      "*    0     0               0       4.8557198    4.85572  0.00%     -    0s\n",
      "\n",
      "Explored 0 nodes (17 simplex iterations) in 0.04 seconds\n",
      "Thread count was 4 (of 4 available processors)\n",
      "\n",
      "Solution count 2: 4.85572 -0 \n",
      "\n",
      "Optimal solution found (tolerance 1.00e-04)\n",
      "Best objective 4.855719827975e+00, best bound 4.855719827975e+00, gap 0.0000%\n",
      "\n",
      "\n",
      "Generated revenue of 4.86 Euros from 2019-01-01 00:00:00 to 2019-01-02 00:00:00\n"
     ]
    },
    {
     "data": {
      "text/html": [
       "<div>\n",
       "<style scoped>\n",
       "    .dataframe tbody tr th:only-of-type {\n",
       "        vertical-align: middle;\n",
       "    }\n",
       "\n",
       "    .dataframe tbody tr th {\n",
       "        vertical-align: top;\n",
       "    }\n",
       "\n",
       "    .dataframe thead th {\n",
       "        text-align: right;\n",
       "    }\n",
       "</style>\n",
       "<table border=\"1\" class=\"dataframe\">\n",
       "  <thead>\n",
       "    <tr style=\"text-align: right;\">\n",
       "      <th></th>\n",
       "      <th>E</th>\n",
       "      <th>Pch</th>\n",
       "      <th>Pdis</th>\n",
       "      <th>b</th>\n",
       "    </tr>\n",
       "  </thead>\n",
       "  <tbody>\n",
       "    <tr>\n",
       "      <th>2019-01-01 00:00:00</th>\n",
       "      <td>162.830094</td>\n",
       "      <td>50.0</td>\n",
       "      <td>0.0</td>\n",
       "      <td>1.0</td>\n",
       "    </tr>\n",
       "    <tr>\n",
       "      <th>2019-01-01 01:00:00</th>\n",
       "      <td>210.000000</td>\n",
       "      <td>0.0</td>\n",
       "      <td>0.0</td>\n",
       "      <td>0.0</td>\n",
       "    </tr>\n",
       "    <tr>\n",
       "      <th>2019-01-01 02:00:00</th>\n",
       "      <td>210.000000</td>\n",
       "      <td>0.0</td>\n",
       "      <td>0.0</td>\n",
       "      <td>-0.0</td>\n",
       "    </tr>\n",
       "    <tr>\n",
       "      <th>2019-01-01 03:00:00</th>\n",
       "      <td>210.000000</td>\n",
       "      <td>0.0</td>\n",
       "      <td>0.0</td>\n",
       "      <td>-0.0</td>\n",
       "    </tr>\n",
       "    <tr>\n",
       "      <th>2019-01-01 04:00:00</th>\n",
       "      <td>210.000000</td>\n",
       "      <td>0.0</td>\n",
       "      <td>0.0</td>\n",
       "      <td>-0.0</td>\n",
       "    </tr>\n",
       "  </tbody>\n",
       "</table>\n",
       "</div>"
      ],
      "text/plain": [
       "                              E   Pch  Pdis    b\n",
       "2019-01-01 00:00:00  162.830094  50.0   0.0  1.0\n",
       "2019-01-01 01:00:00  210.000000   0.0   0.0  0.0\n",
       "2019-01-01 02:00:00  210.000000   0.0   0.0 -0.0\n",
       "2019-01-01 03:00:00  210.000000   0.0   0.0 -0.0\n",
       "2019-01-01 04:00:00  210.000000   0.0   0.0 -0.0"
      ]
     },
     "execution_count": 7,
     "metadata": {},
     "output_type": "execute_result"
    }
   ],
   "source": [
    "dv_soln = solve(Prob, dv_vecs, dv_Efin)\n",
    "dv_soln.head()"
   ]
  },
  {
   "cell_type": "markdown",
   "metadata": {},
   "source": [
    "<h4><i><font color=#BA4A00>6) Visualize output</font></i></h4>"
   ]
  },
  {
   "cell_type": "code",
   "execution_count": 8,
   "metadata": {},
   "outputs": [
    {
     "data": {
      "image/png": "[encoded data removed]",
      "text/plain": [
       "<Figure size 1080x432 with 1 Axes>"
      ]
     },
     "metadata": {},
     "output_type": "display_data"
    },
    {
     "name": "stdout",
     "output_type": "stream",
     "text": [
      "Generated revenue of 4.86 Euros \n",
      "from 2019-01-01 00:00:00 to 2019-01-02 00:00:00\n"
     ]
    },
    {
     "data": {
      "image/png": "[encoded data removed]",
      "text/plain": [
       "<Figure size 1080x216 with 1 Axes>"
      ]
     },
     "metadata": {},
     "output_type": "display_data"
    }
   ],
   "source": [
    "plot_batop(Prob, dv_soln)\n",
    "plot_prices(Prices)"
   ]
  },
  {
   "cell_type": "markdown",
   "metadata": {},
   "source": [
    "FINDINGS <br>\n",
    "1) Model serves as the starting point to evaluate a battery's performance on a given market, and to assess the investment. <br>\n",
    "2) Small gains from mere energy arbitrage strongly suggests the need for value-stacking (e.g. provide ancillary services to grid) <br>\n",
    "3) Model assumes that the battery cannot affect the wholesale prices. When moving to battery fleet control, market dynamics must be included. <br>"
   ]
  },
  {
   "cell_type": "code",
   "execution_count": null,
   "metadata": {},
   "outputs": [],
   "source": []
  },
  {
   "cell_type": "code",
   "execution_count": null,
   "metadata": {},
   "outputs": [],
   "source": []
  }
 ],
 "metadata": {
  "kernelspec": {
   "display_name": "Python 3",
   "language": "python",
   "name": "python3"
  },
  "language_info": {
   "codemirror_mode": {
    "name": "ipython",
    "version": 3
   },
   "file_extension": ".py",
   "mimetype": "text/x-python",
   "name": "python",
   "nbconvert_exporter": "python",
   "pygments_lexer": "ipython3",
   "version": "3.6.6"
  }
 },
 "nbformat": 4,
 "nbformat_minor": 2
}
