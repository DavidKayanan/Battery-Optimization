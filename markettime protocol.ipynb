{
 "cells": [
  {
   "cell_type": "markdown",
   "metadata": {},
   "source": [
    "This defines the market time implementation requirements. A market time format class should implement at least the ff:\n",
    "- class.TimeStamp(), as a constructor of a market time stamp\n",
    "- instance.GMT_toMarket(), a method that converts time in GMT to the market time\n",
    "- instance.Market_toGMT(), a method that converts a market time stamp into GMT\n",
    "- instance.delta_t, a datetime.timedelta object representing the resolution of the market time"
   ]
  },
  {
   "cell_type": "code",
   "execution_count": 1,
   "metadata": {},
   "outputs": [],
   "source": [
    "import datetime\n",
    "import getpass\n",
    "# Add the project path here (where batopt.py and the Input folder is located)\n",
    "PathProj = \"C://Users//{usr}//GoogleDrive//Projects//Battery Optimization\".format(usr=getpass.getuser())\n",
    "getpass.sys.path.append(PathProj)\n",
    "\n",
    "from markettime import CAISO"
   ]
  },
  {
   "cell_type": "code",
   "execution_count": 2,
   "metadata": {},
   "outputs": [],
   "source": [
    "# Initialize California CAISO time in 2018\n",
    "CA_time = CAISO(GMToffset=-8, DST_periods={2018: (\"Mar 11, 2018 H10\", \"Nov 04, 2018 H09\")})"
   ]
  },
  {
   "cell_type": "markdown",
   "metadata": {},
   "source": [
    "<br>\n",
    "<h3><i><font color=green>1 Create market timestamps</font></i></h3>\n",
    "<i> class method, CAISO.<b>markettime</b>(dt: datetime.date, hr: int)</i> <br><br>\n",
    "The CAISO market hour ranges from 1-24 (and 25 for the switch from Summer to Winter time)"
   ]
  },
  {
   "cell_type": "code",
   "execution_count": 3,
   "metadata": {},
   "outputs": [],
   "source": [
    "dt1 = datetime.date(year=2019, month=7, day=1)"
   ]
  },
  {
   "cell_type": "code",
   "execution_count": 4,
   "metadata": {},
   "outputs": [
    {
     "data": {
      "text/plain": [
       "07/01/2019 H24"
      ]
     },
     "execution_count": 4,
     "metadata": {},
     "output_type": "execute_result"
    }
   ],
   "source": [
    "CAISO.TimeStamp(dt1, 24)"
   ]
  },
  {
   "cell_type": "code",
   "execution_count": 5,
   "metadata": {
    "collapsed": true
   },
   "outputs": [
    {
     "ename": "ValueError",
     "evalue": "Market hr must be an integer from 1-25.",
     "output_type": "error",
     "traceback": [
      "\u001b[1;31m---------------------------------------------------------------------------\u001b[0m",
      "\u001b[1;31mValueError\u001b[0m                                Traceback (most recent call last)",
      "\u001b[1;32m<ipython-input-5-112330b624b2>\u001b[0m in \u001b[0;36m<module>\u001b[1;34m()\u001b[0m\n\u001b[0;32m      1\u001b[0m \u001b[1;31m# CAISO time is a 1-24(+25)-hour scale\u001b[0m\u001b[1;33m\u001b[0m\u001b[1;33m\u001b[0m\u001b[0m\n\u001b[1;32m----> 2\u001b[1;33m \u001b[0mCAISO\u001b[0m\u001b[1;33m.\u001b[0m\u001b[0mTimeStamp\u001b[0m\u001b[1;33m(\u001b[0m\u001b[0mdt1\u001b[0m\u001b[1;33m,\u001b[0m \u001b[1;36m0\u001b[0m\u001b[1;33m)\u001b[0m\u001b[1;33m\u001b[0m\u001b[0m\n\u001b[0m",
      "\u001b[1;32mC://Users//Dave//GoogleDrive//Projects//Battery Optimization\\markettime.py\u001b[0m in \u001b[0;36m__init__\u001b[1;34m(self, dt, hr)\u001b[0m\n\u001b[0;32m     91\u001b[0m                                 \u001b[1;32mraise\u001b[0m \u001b[0mTypeError\u001b[0m\u001b[1;33m(\u001b[0m\u001b[1;34m\"Market hr must be an integer from 1-25.\"\u001b[0m\u001b[1;33m)\u001b[0m\u001b[1;33m\u001b[0m\u001b[0m\n\u001b[0;32m     92\u001b[0m                         \u001b[1;32mif\u001b[0m \u001b[1;32mnot\u001b[0m \u001b[1;36m1\u001b[0m \u001b[1;33m<=\u001b[0m \u001b[0mhr\u001b[0m \u001b[1;33m<=\u001b[0m \u001b[1;36m25\u001b[0m\u001b[1;33m:\u001b[0m\u001b[1;33m\u001b[0m\u001b[0m\n\u001b[1;32m---> 93\u001b[1;33m                                 \u001b[1;32mraise\u001b[0m \u001b[0mValueError\u001b[0m\u001b[1;33m(\u001b[0m\u001b[1;34m\"Market hr must be an integer from 1-25.\"\u001b[0m\u001b[1;33m)\u001b[0m\u001b[1;33m\u001b[0m\u001b[0m\n\u001b[0m\u001b[0;32m     94\u001b[0m \u001b[1;33m\u001b[0m\u001b[0m\n\u001b[0;32m     95\u001b[0m                         \u001b[1;31m# date object\u001b[0m\u001b[1;33m\u001b[0m\u001b[1;33m\u001b[0m\u001b[0m\n",
      "\u001b[1;31mValueError\u001b[0m: Market hr must be an integer from 1-25."
     ]
    }
   ],
   "source": [
    "# CAISO time is a 1-24(+25)-hour scale\n",
    "CAISO.TimeStamp(dt1, 0)"
   ]
  },
  {
   "cell_type": "code",
   "execution_count": 6,
   "metadata": {},
   "outputs": [
    {
     "data": {
      "text/plain": [
       "07/01/2019 H25"
      ]
     },
     "execution_count": 6,
     "metadata": {},
     "output_type": "execute_result"
    }
   ],
   "source": [
    "CAISO.TimeStamp(dt1, 25)"
   ]
  },
  {
   "cell_type": "code",
   "execution_count": 7,
   "metadata": {},
   "outputs": [
    {
     "data": {
      "text/plain": [
       "07/01/2019 H01"
      ]
     },
     "execution_count": 7,
     "metadata": {},
     "output_type": "execute_result"
    }
   ],
   "source": [
    "# if 'first' is passed as param hr, then the first hour of that day is returned\n",
    "CAISO.TimeStamp(dt1, 'first')"
   ]
  },
  {
   "cell_type": "markdown",
   "metadata": {},
   "source": [
    "<h3><i><font color=green>2 Convert GMT to market time</font></i></h3>\n",
    "<i>instance method, instance.<b>GMT_toMarket</b>(GMT: datetime.datetime)</i> <br>\n",
    "The CAISO market hour ranges from 1-24 (and 25 for the switch from Summer to Winter time)"
   ]
  },
  {
   "cell_type": "code",
   "execution_count": null,
   "metadata": {},
   "outputs": [],
   "source": [
    "dt2 = datetime.datetime(year=2018, month=2, day=25, hour=12)\n",
    "dt2"
   ]
  },
  {
   "cell_type": "code",
   "execution_count": null,
   "metadata": {},
   "outputs": [],
   "source": [
    "dt2_mt = CA_time.GMT_toMarket(dt2)\n",
    "dt2_mt"
   ]
  },
  {
   "cell_type": "code",
   "execution_count": null,
   "metadata": {},
   "outputs": [],
   "source": [
    "dt=CA_time.DST_periods[2018][0]\n",
    "display(dt, CA_time.GMT_toMarket(dt))"
   ]
  },
  {
   "cell_type": "markdown",
   "metadata": {},
   "source": [
    "<h3><i><font color=green>3 Convert market time to GMT</font></i></h3>\n",
    "<i>instance method, instance.<b>Market_toGMT</b>(markettime: TimeStamp)</i> <br>\n"
   ]
  },
  {
   "cell_type": "code",
   "execution_count": null,
   "metadata": {},
   "outputs": [],
   "source": [
    "CA_time.Market_toGMT(dt2_mt)"
   ]
  },
  {
   "cell_type": "markdown",
   "metadata": {},
   "source": [
    "<h3><i><font color=green>4 Hourly resolution</font></i></h3>\n",
    "<i>instance property, instance.delta_t</i> <br>\n"
   ]
  },
  {
   "cell_type": "code",
   "execution_count": null,
   "metadata": {},
   "outputs": [],
   "source": [
    "CA_time.delta_t"
   ]
  },
  {
   "cell_type": "markdown",
   "metadata": {},
   "source": [
    "<h3><i><font color=green>5 Get month ends</font></i></h3>\n",
    "<i> class method, CAISO.<b>get_month_ends</b>(year: int)</i> <br><br>"
   ]
  },
  {
   "cell_type": "code",
   "execution_count": null,
   "metadata": {},
   "outputs": [],
   "source": [
    "# Class methods can also be invoked by an instance\n",
    "CA_time.get_month_ends(2000)"
   ]
  },
  {
   "cell_type": "markdown",
   "metadata": {},
   "source": [
    "<h4><i><font color=gray>CAISO-specific</font></i></h4>\n",
    "Update DST schedule"
   ]
  },
  {
   "cell_type": "code",
   "execution_count": 8,
   "metadata": {},
   "outputs": [
    {
     "data": {
      "text/plain": [
       "CAISO market time at GMT-8. DST observed in: 2018, 2019"
      ]
     },
     "execution_count": 8,
     "metadata": {},
     "output_type": "execute_result"
    }
   ],
   "source": [
    "CA_time.update_DST({2019: (\"Mar 10, 2019 H10\", \"Nov 03, 2019 H09\")})\n",
    "CA_time"
   ]
  },
  {
   "cell_type": "code",
   "execution_count": 9,
   "metadata": {},
   "outputs": [
    {
     "data": {
      "text/plain": [
       "04/26/2019 H08"
      ]
     },
     "execution_count": 9,
     "metadata": {},
     "output_type": "execute_result"
    }
   ],
   "source": [
    "# Test 2019 DST\n",
    "CA_time.GMT_toMarket(datetime.datetime.now())"
   ]
  }
 ],
 "metadata": {
  "kernelspec": {
   "display_name": "Python 3",
   "language": "python",
   "name": "python3"
  },
  "language_info": {
   "codemirror_mode": {
    "name": "ipython",
    "version": 3
   },
   "file_extension": ".py",
   "mimetype": "text/x-python",
   "name": "python",
   "nbconvert_exporter": "python",
   "pygments_lexer": "ipython3",
   "version": "3.6.6"
  }
 },
 "nbformat": 4,
 "nbformat_minor": 2
}
